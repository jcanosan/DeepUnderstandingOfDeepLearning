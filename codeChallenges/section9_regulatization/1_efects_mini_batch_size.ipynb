{
 "cells": [
  {
   "cell_type": "code",
   "execution_count": 16,
   "metadata": {
    "id": "YeuAheYyhdZw"
   },
   "outputs": [],
   "source": [
    "# import libraries\n",
    "import torch\n",
    "import torch.nn as nn\n",
    "import numpy as np\n",
    "import matplotlib.pyplot as plt\n",
    "from sklearn.model_selection import train_test_split\n",
    "from torch.utils.data import DataLoader,TensorDataset"
   ]
  },
  {
   "cell_type": "code",
   "execution_count": 17,
   "metadata": {
    "id": "MU7rvmWuhjud"
   },
   "outputs": [
    {
     "data": {
      "text/html": [
       "<div>\n",
       "<style scoped>\n",
       "    .dataframe tbody tr th:only-of-type {\n",
       "        vertical-align: middle;\n",
       "    }\n",
       "\n",
       "    .dataframe tbody tr th {\n",
       "        vertical-align: top;\n",
       "    }\n",
       "\n",
       "    .dataframe thead th {\n",
       "        text-align: right;\n",
       "    }\n",
       "</style>\n",
       "<table border=\"1\" class=\"dataframe\">\n",
       "  <thead>\n",
       "    <tr style=\"text-align: right;\">\n",
       "      <th></th>\n",
       "      <th>sepal_length</th>\n",
       "      <th>sepal_width</th>\n",
       "      <th>petal_length</th>\n",
       "      <th>petal_width</th>\n",
       "      <th>species</th>\n",
       "    </tr>\n",
       "  </thead>\n",
       "  <tbody>\n",
       "    <tr>\n",
       "      <th>0</th>\n",
       "      <td>5.1</td>\n",
       "      <td>3.5</td>\n",
       "      <td>1.4</td>\n",
       "      <td>0.2</td>\n",
       "      <td>setosa</td>\n",
       "    </tr>\n",
       "    <tr>\n",
       "      <th>1</th>\n",
       "      <td>4.9</td>\n",
       "      <td>3.0</td>\n",
       "      <td>1.4</td>\n",
       "      <td>0.2</td>\n",
       "      <td>setosa</td>\n",
       "    </tr>\n",
       "    <tr>\n",
       "      <th>2</th>\n",
       "      <td>4.7</td>\n",
       "      <td>3.2</td>\n",
       "      <td>1.3</td>\n",
       "      <td>0.2</td>\n",
       "      <td>setosa</td>\n",
       "    </tr>\n",
       "    <tr>\n",
       "      <th>3</th>\n",
       "      <td>4.6</td>\n",
       "      <td>3.1</td>\n",
       "      <td>1.5</td>\n",
       "      <td>0.2</td>\n",
       "      <td>setosa</td>\n",
       "    </tr>\n",
       "    <tr>\n",
       "      <th>4</th>\n",
       "      <td>5.0</td>\n",
       "      <td>3.6</td>\n",
       "      <td>1.4</td>\n",
       "      <td>0.2</td>\n",
       "      <td>setosa</td>\n",
       "    </tr>\n",
       "    <tr>\n",
       "      <th>...</th>\n",
       "      <td>...</td>\n",
       "      <td>...</td>\n",
       "      <td>...</td>\n",
       "      <td>...</td>\n",
       "      <td>...</td>\n",
       "    </tr>\n",
       "    <tr>\n",
       "      <th>145</th>\n",
       "      <td>6.7</td>\n",
       "      <td>3.0</td>\n",
       "      <td>5.2</td>\n",
       "      <td>2.3</td>\n",
       "      <td>virginica</td>\n",
       "    </tr>\n",
       "    <tr>\n",
       "      <th>146</th>\n",
       "      <td>6.3</td>\n",
       "      <td>2.5</td>\n",
       "      <td>5.0</td>\n",
       "      <td>1.9</td>\n",
       "      <td>virginica</td>\n",
       "    </tr>\n",
       "    <tr>\n",
       "      <th>147</th>\n",
       "      <td>6.5</td>\n",
       "      <td>3.0</td>\n",
       "      <td>5.2</td>\n",
       "      <td>2.0</td>\n",
       "      <td>virginica</td>\n",
       "    </tr>\n",
       "    <tr>\n",
       "      <th>148</th>\n",
       "      <td>6.2</td>\n",
       "      <td>3.4</td>\n",
       "      <td>5.4</td>\n",
       "      <td>2.3</td>\n",
       "      <td>virginica</td>\n",
       "    </tr>\n",
       "    <tr>\n",
       "      <th>149</th>\n",
       "      <td>5.9</td>\n",
       "      <td>3.0</td>\n",
       "      <td>5.1</td>\n",
       "      <td>1.8</td>\n",
       "      <td>virginica</td>\n",
       "    </tr>\n",
       "  </tbody>\n",
       "</table>\n",
       "<p>150 rows × 5 columns</p>\n",
       "</div>"
      ],
      "text/plain": [
       "     sepal_length  sepal_width  petal_length  petal_width    species\n",
       "0             5.1          3.5           1.4          0.2     setosa\n",
       "1             4.9          3.0           1.4          0.2     setosa\n",
       "2             4.7          3.2           1.3          0.2     setosa\n",
       "3             4.6          3.1           1.5          0.2     setosa\n",
       "4             5.0          3.6           1.4          0.2     setosa\n",
       "..            ...          ...           ...          ...        ...\n",
       "145           6.7          3.0           5.2          2.3  virginica\n",
       "146           6.3          2.5           5.0          1.9  virginica\n",
       "147           6.5          3.0           5.2          2.0  virginica\n",
       "148           6.2          3.4           5.4          2.3  virginica\n",
       "149           5.9          3.0           5.1          1.8  virginica\n",
       "\n",
       "[150 rows x 5 columns]"
      ]
     },
     "execution_count": 17,
     "metadata": {},
     "output_type": "execute_result"
    }
   ],
   "source": [
    "# import dataset (comes with seaborn)\n",
    "import seaborn as sns\n",
    "iris = sns.load_dataset('iris')\n",
    "iris"
   ]
  },
  {
   "cell_type": "code",
   "execution_count": null,
   "metadata": {
    "id": "PRQFDaDfXs-b"
   },
   "outputs": [],
   "source": [
    "# plot the data\n",
    "iris.plot(marker='o',linestyle='none',figsize=(12,6))\n",
    "plt.xlabel('Sample number')\n",
    "plt.ylabel('Value')\n",
    "plt.show()"
   ]
  },
  {
   "cell_type": "code",
   "execution_count": 18,
   "metadata": {
    "id": "vJPkH6Bfh01_"
   },
   "outputs": [],
   "source": [
    "# organize the data\n",
    "\n",
    "# convert from pandas dataframe to tensor\n",
    "data = torch.tensor( iris[iris.columns[0:4]].values ).float()\n",
    "\n",
    "# transform species to number\n",
    "labels = torch.zeros(len(data), dtype=torch.long)\n",
    "# labels[iris.species=='setosa']   = 0 # don't need!\n",
    "labels[iris.species=='versicolor'] = 1\n",
    "labels[iris.species=='virginica']  = 2"
   ]
  },
  {
   "cell_type": "markdown",
   "metadata": {
    "id": "S-GvjKA8AesK"
   },
   "source": [
    "# Break the data into batches"
   ]
  },
  {
   "cell_type": "code",
   "execution_count": 19,
   "metadata": {
    "id": "OVrlOHYIAg0r"
   },
   "outputs": [],
   "source": [
    "# use scikitlearn to split the data\n",
    "train_data,test_data, train_labels,test_labels = train_test_split(data, labels, test_size=.2)\n",
    "\n",
    "\n",
    "# then convert them into PyTorch Datasets (note: already converted to tensors)\n",
    "train_data = TensorDataset(train_data,train_labels)\n",
    "test_data  = TensorDataset(test_data,test_labels)\n",
    "\n",
    "\n",
    "# finally, translate into dataloader objects\n",
    "def load_train_data_batches_with_multipliers(batch_multipliers):\n",
    "    batch_size_base = 2\n",
    "    for multiplier in batch_multipliers:\n",
    "        yield DataLoader(train_data, batch_size=batch_size_base**multiplier, shuffle=True, drop_last=True)\n",
    "test_loader  = DataLoader(test_data,batch_size=test_data.tensors[0].shape[0]) # how big should these batches be??"
   ]
  },
  {
   "cell_type": "code",
   "execution_count": 20,
   "metadata": {
    "id": "rmKRNFYUceuH"
   },
   "outputs": [
    {
     "name": "stdout",
     "output_type": "stream",
     "text": [
      "batch_size = 2\n",
      "torch.Size([2, 4]) torch.Size([2])\n",
      "torch.Size([2, 4]) torch.Size([2])\n",
      "torch.Size([2, 4]) torch.Size([2])\n",
      "torch.Size([2, 4]) torch.Size([2])\n",
      "torch.Size([2, 4]) torch.Size([2])\n",
      "torch.Size([2, 4]) torch.Size([2])\n",
      "torch.Size([2, 4]) torch.Size([2])\n",
      "torch.Size([2, 4]) torch.Size([2])\n",
      "torch.Size([2, 4]) torch.Size([2])\n",
      "torch.Size([2, 4]) torch.Size([2])\n",
      "torch.Size([2, 4]) torch.Size([2])\n",
      "torch.Size([2, 4]) torch.Size([2])\n",
      "torch.Size([2, 4]) torch.Size([2])\n",
      "torch.Size([2, 4]) torch.Size([2])\n",
      "torch.Size([2, 4]) torch.Size([2])\n",
      "torch.Size([2, 4]) torch.Size([2])\n",
      "torch.Size([2, 4]) torch.Size([2])\n",
      "torch.Size([2, 4]) torch.Size([2])\n",
      "torch.Size([2, 4]) torch.Size([2])\n",
      "torch.Size([2, 4]) torch.Size([2])\n",
      "torch.Size([2, 4]) torch.Size([2])\n",
      "torch.Size([2, 4]) torch.Size([2])\n",
      "torch.Size([2, 4]) torch.Size([2])\n",
      "torch.Size([2, 4]) torch.Size([2])\n",
      "torch.Size([2, 4]) torch.Size([2])\n",
      "torch.Size([2, 4]) torch.Size([2])\n",
      "torch.Size([2, 4]) torch.Size([2])\n",
      "torch.Size([2, 4]) torch.Size([2])\n",
      "torch.Size([2, 4]) torch.Size([2])\n",
      "torch.Size([2, 4]) torch.Size([2])\n",
      "torch.Size([2, 4]) torch.Size([2])\n",
      "torch.Size([2, 4]) torch.Size([2])\n",
      "torch.Size([2, 4]) torch.Size([2])\n",
      "torch.Size([2, 4]) torch.Size([2])\n",
      "torch.Size([2, 4]) torch.Size([2])\n",
      "torch.Size([2, 4]) torch.Size([2])\n",
      "torch.Size([2, 4]) torch.Size([2])\n",
      "torch.Size([2, 4]) torch.Size([2])\n",
      "torch.Size([2, 4]) torch.Size([2])\n",
      "torch.Size([2, 4]) torch.Size([2])\n",
      "torch.Size([2, 4]) torch.Size([2])\n",
      "torch.Size([2, 4]) torch.Size([2])\n",
      "torch.Size([2, 4]) torch.Size([2])\n",
      "torch.Size([2, 4]) torch.Size([2])\n",
      "torch.Size([2, 4]) torch.Size([2])\n",
      "torch.Size([2, 4]) torch.Size([2])\n",
      "torch.Size([2, 4]) torch.Size([2])\n",
      "torch.Size([2, 4]) torch.Size([2])\n",
      "torch.Size([2, 4]) torch.Size([2])\n",
      "torch.Size([2, 4]) torch.Size([2])\n",
      "torch.Size([2, 4]) torch.Size([2])\n",
      "torch.Size([2, 4]) torch.Size([2])\n",
      "torch.Size([2, 4]) torch.Size([2])\n",
      "torch.Size([2, 4]) torch.Size([2])\n",
      "torch.Size([2, 4]) torch.Size([2])\n",
      "torch.Size([2, 4]) torch.Size([2])\n",
      "torch.Size([2, 4]) torch.Size([2])\n",
      "torch.Size([2, 4]) torch.Size([2])\n",
      "torch.Size([2, 4]) torch.Size([2])\n",
      "torch.Size([2, 4]) torch.Size([2])\n",
      "batch_size = 4\n",
      "torch.Size([4, 4]) torch.Size([4])\n",
      "torch.Size([4, 4]) torch.Size([4])\n",
      "torch.Size([4, 4]) torch.Size([4])\n",
      "torch.Size([4, 4]) torch.Size([4])\n",
      "torch.Size([4, 4]) torch.Size([4])\n",
      "torch.Size([4, 4]) torch.Size([4])\n",
      "torch.Size([4, 4]) torch.Size([4])\n",
      "torch.Size([4, 4]) torch.Size([4])\n",
      "torch.Size([4, 4]) torch.Size([4])\n",
      "torch.Size([4, 4]) torch.Size([4])\n",
      "torch.Size([4, 4]) torch.Size([4])\n",
      "torch.Size([4, 4]) torch.Size([4])\n",
      "torch.Size([4, 4]) torch.Size([4])\n",
      "torch.Size([4, 4]) torch.Size([4])\n",
      "torch.Size([4, 4]) torch.Size([4])\n",
      "torch.Size([4, 4]) torch.Size([4])\n",
      "torch.Size([4, 4]) torch.Size([4])\n",
      "torch.Size([4, 4]) torch.Size([4])\n",
      "torch.Size([4, 4]) torch.Size([4])\n",
      "torch.Size([4, 4]) torch.Size([4])\n",
      "torch.Size([4, 4]) torch.Size([4])\n",
      "torch.Size([4, 4]) torch.Size([4])\n",
      "torch.Size([4, 4]) torch.Size([4])\n",
      "torch.Size([4, 4]) torch.Size([4])\n",
      "torch.Size([4, 4]) torch.Size([4])\n",
      "torch.Size([4, 4]) torch.Size([4])\n",
      "torch.Size([4, 4]) torch.Size([4])\n",
      "torch.Size([4, 4]) torch.Size([4])\n",
      "torch.Size([4, 4]) torch.Size([4])\n",
      "torch.Size([4, 4]) torch.Size([4])\n",
      "batch_size = 8\n",
      "torch.Size([8, 4]) torch.Size([8])\n",
      "torch.Size([8, 4]) torch.Size([8])\n",
      "torch.Size([8, 4]) torch.Size([8])\n",
      "torch.Size([8, 4]) torch.Size([8])\n",
      "torch.Size([8, 4]) torch.Size([8])\n",
      "torch.Size([8, 4]) torch.Size([8])\n",
      "torch.Size([8, 4]) torch.Size([8])\n",
      "torch.Size([8, 4]) torch.Size([8])\n",
      "torch.Size([8, 4]) torch.Size([8])\n",
      "torch.Size([8, 4]) torch.Size([8])\n",
      "torch.Size([8, 4]) torch.Size([8])\n",
      "torch.Size([8, 4]) torch.Size([8])\n",
      "torch.Size([8, 4]) torch.Size([8])\n",
      "torch.Size([8, 4]) torch.Size([8])\n",
      "torch.Size([8, 4]) torch.Size([8])\n",
      "batch_size = 16\n",
      "torch.Size([16, 4]) torch.Size([16])\n",
      "torch.Size([16, 4]) torch.Size([16])\n",
      "torch.Size([16, 4]) torch.Size([16])\n",
      "torch.Size([16, 4]) torch.Size([16])\n",
      "torch.Size([16, 4]) torch.Size([16])\n",
      "torch.Size([16, 4]) torch.Size([16])\n",
      "torch.Size([16, 4]) torch.Size([16])\n",
      "batch_size = 32\n",
      "torch.Size([32, 4]) torch.Size([32])\n",
      "torch.Size([32, 4]) torch.Size([32])\n",
      "torch.Size([32, 4]) torch.Size([32])\n",
      "batch_size = 64\n",
      "torch.Size([64, 4]) torch.Size([64])\n"
     ]
    }
   ],
   "source": [
    "# check sizes of data batches\n",
    "for batch in load_train_data_batches_with_multipliers([1, 2, 3, 4, 5, 6]):\n",
    "  print(\"batch_size =\", batch.batch_size)\n",
    "  for X, y in batch:\n",
    "    print(X.shape, y.shape)\n"
   ]
  },
  {
   "cell_type": "markdown",
   "metadata": {
    "id": "3hvO8U4hR6A4"
   },
   "source": [
    "# Construct the model and training plans"
   ]
  },
  {
   "cell_type": "code",
   "execution_count": null,
   "metadata": {
    "id": "v0JMIGb1iV_9"
   },
   "outputs": [],
   "source": [
    "# a function that creates the ANN model\n",
    "\n",
    "def create_model():\n",
    "  # model architecture\n",
    "  ANNiris = nn.Sequential(\n",
    "      nn.Linear(4,64),   # input layer\n",
    "      nn.ReLU(),         # activation unit\n",
    "      nn.Linear(64,64),  # hidden layer\n",
    "      nn.ReLU(),         # activation unit\n",
    "      nn.Linear(64,3),   # output units\n",
    "        )\n",
    "\n",
    "  # loss function\n",
    "  lossfun = nn.CrossEntropyLoss()\n",
    "\n",
    "  # optimizer\n",
    "  optimizer = torch.optim.SGD(ANNiris.parameters(), lr=.001)\n",
    "\n",
    "  return ANNiris,lossfun,optimizer"
   ]
  },
  {
   "cell_type": "code",
   "execution_count": null,
   "metadata": {
    "id": "cVD1nFTli7TO"
   },
   "outputs": [],
   "source": [
    "# train the model\n",
    "\n",
    "# global parameter\n",
    "numepochs = 2500\n",
    "\n",
    "def train_model(ANNiris, lossfun, optimizer, train_loader):\n",
    "\n",
    "  # initialize accuracies as empties\n",
    "  trainAcc = []\n",
    "  testAcc  = []\n",
    "  losses   = []\n",
    "\n",
    "  # loop over epochs\n",
    "  for epochi in range(numepochs):\n",
    "\n",
    "    # loop over training data batches\n",
    "    batchAcc  = []\n",
    "    batchLoss = []\n",
    "    for X, y in train_loader:\n",
    "\n",
    "      # forward pass and loss\n",
    "      yHat = ANNiris(X)\n",
    "      loss = lossfun(yHat, y)\n",
    "      \n",
    "      # backprop\n",
    "      optimizer.zero_grad()\n",
    "      loss.backward()\n",
    "      optimizer.step()\n",
    "\n",
    "      # compute training accuracy just for this batch\n",
    "      batchAcc.append(100*torch.mean((torch.argmax(yHat, axis=1) == y).float()).item())\n",
    "      batchLoss.append(loss.item())\n",
    "    # end of batch loop...\n",
    "\n",
    "    # now that we've trained through the batches, get their average training accuracy\n",
    "    trainAcc.append(np.mean(batchAcc))\n",
    "    losses.append(np.mean(batchLoss))\n",
    "\n",
    "    # test accuracy\n",
    "    X, y = next(iter(test_loader)) # extract X,y from test dataloader\n",
    "    predlabels = torch.argmax(ANNiris(X), axis=1)\n",
    "    testAcc.append(100*torch.mean((predlabels == y).float()).item())\n",
    "  \n",
    "  # function output\n",
    "  return trainAcc, testAcc, losses\n"
   ]
  },
  {
   "cell_type": "markdown",
   "metadata": {
    "id": "VuoE2V3PR--u"
   },
   "source": [
    "# Test it out"
   ]
  },
  {
   "cell_type": "code",
   "execution_count": null,
   "metadata": {
    "id": "vXku7xIdcu7Y"
   },
   "outputs": [],
   "source": [
    "data = {}\n",
    "for train_loader in load_train_data_batches_with_multipliers(batch_multipliers=[1, 2, 3, 4, 5, 6]):\n",
    "    ANNiris, lossfun, optimizer = create_model()\n",
    "    train_accuracy, test_accuracy, losses = train_model(ANNiris, lossfun, optimizer, train_loader)\n",
    "    data[train_loader.batch_size] = {\n",
    "        \"train_accuracy\": train_accuracy,\n",
    "        \"test_accuracy\": test_accuracy,\n",
    "        \"losses\": losses\n",
    "    }"
   ]
  },
  {
   "cell_type": "code",
   "execution_count": null,
   "metadata": {},
   "outputs": [],
   "source": [
    "data"
   ]
  },
  {
   "cell_type": "code",
   "execution_count": null,
   "metadata": {
    "id": "JYouZAY4i3jM"
   },
   "outputs": [],
   "source": [
    "# plot the results\n",
    "fig, ax = plt.subplots(1,3,figsize=(15,5))\n",
    "\n",
    "\n",
    "for batch_size, results in data.items():\n",
    "    ax[0].plot(results[\"losses\"])\n",
    "ax[0].set_ylabel('Loss')\n",
    "ax[0].set_xlabel('Epochs')\n",
    "ax[0].set_title('Losses with minibatches')\n",
    "ax[0].legend([batch_size for batch_size in data])\n",
    "\n",
    "for batch_size, results in data.items():\n",
    "    ax[1].plot(results[\"train_accuracy\"])\n",
    "ax[1].set_title('Accuracy with minibatches in training data')\n",
    "ax[1].set_xlabel('Epochs')\n",
    "ax[1].set_ylabel('Accuracy (%)')\n",
    "ax[1].legend([batch_size for batch_size in data])\n",
    "ax[1].set_ylim([27,103])\n",
    "\n",
    "for batch_size, results in data.items():\n",
    "    print(batch_size, results)\n",
    "    ax[2].plot(results[\"test_accuracy\"])\n",
    "ax[2].set_title('Accuracy with minibatches in test data')\n",
    "ax[2].set_xlabel('Epochs')\n",
    "ax[2].set_ylabel('Accuracy (%)')\n",
    "ax[2].legend([batch_size for batch_size in data])\n",
    "ax[2].set_ylim([27,103])\n",
    "\n",
    "plt.show()"
   ]
  }
 ],
 "metadata": {
  "colab": {
   "authorship_tag": "ABX9TyNdHdIxnBBxr8sHl3mGRVPh",
   "collapsed_sections": [],
   "name": "DUDL_regular_minibatch.ipynb",
   "provenance": [
    {
     "file_id": "1bv1_y32e3KEExFKKlPfC3rpw1JxmBr8H",
     "timestamp": 1617124341706
    },
    {
     "file_id": "1GMq8u7KyHB2AE7Teyls9gK1T01OduQSn",
     "timestamp": 1616697516760
    },
    {
     "file_id": "1Ui3kyHim-e0XLgDs2mkBxVlYg7TKYtcg",
     "timestamp": 1616615469755
    },
    {
     "file_id": "1YpHocGI4rApOxIBb1ZghCU5L-hFnv4CK",
     "timestamp": 1616608248670
    }
   ]
  },
  "kernelspec": {
   "display_name": "Python 3",
   "name": "python3"
  },
  "language_info": {
   "codemirror_mode": {
    "name": "ipython",
    "version": 3
   },
   "file_extension": ".py",
   "mimetype": "text/x-python",
   "name": "python",
   "nbconvert_exporter": "python",
   "pygments_lexer": "ipython3",
   "version": "3.10.12"
  }
 },
 "nbformat": 4,
 "nbformat_minor": 0
}
