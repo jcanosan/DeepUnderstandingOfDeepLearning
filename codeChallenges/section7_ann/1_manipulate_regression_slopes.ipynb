{
 "cells": [
  {
   "cell_type": "code",
   "execution_count": null,
   "metadata": {},
   "outputs": [],
   "source": [
    "import numpy as np\n",
    "import torch\n",
    "from torch import nn\n",
    "import matplotlib.pyplot as plt\n",
    "import matplotlib_inline.backend_inline\n",
    "matplotlib_inline.backend_inline.set_matplotlib_formats('svg')"
   ]
  },
  {
   "cell_type": "code",
   "execution_count": null,
   "metadata": {},
   "outputs": [],
   "source": [
    "# 1) Write a Python function that builds and trains the model, and outputs the\n",
    "# final predictions and losses\n",
    "\n",
    "def build_model():\n",
    "    return nn.Sequential(\n",
    "        nn.Linear(1,1),  # input layer\n",
    "        nn.ReLU(),       # activation function\n",
    "        nn.Linear(1,1)   # output layer\n",
    "    )\n",
    "\n",
    "def train_model(x, y, loss_function=nn.MSELoss(), num_epochs=500):\n",
    "    ANNreg = build_model()\n",
    "    optimizer = torch.optim.SGD(ANNreg.parameters(), lr=.05)\n",
    "    losses = torch.zeros(num_epochs)\n",
    "\n",
    "    ## Train the model\n",
    "    for epochi in range(num_epochs):\n",
    "        # forward pass\n",
    "        yHat = ANNreg(x)\n",
    "        # compute loss\n",
    "        loss = loss_function(yHat,y)\n",
    "        losses[epochi] = loss\n",
    "        # backprop\n",
    "        optimizer.zero_grad()\n",
    "        loss.backward()\n",
    "        optimizer.step()\n",
    "    \n",
    "    # manually compute losses\n",
    "    # final forward pass\n",
    "    predictions = ANNreg(x)\n",
    "    \n",
    "    return predictions, losses"
   ]
  },
  {
   "cell_type": "code",
   "execution_count": null,
   "metadata": {},
   "outputs": [],
   "source": [
    "# 2) Write a function that creates the data and outputs x, y\n",
    "# y = m * x + randn / 2\n",
    "# N = 50\n",
    "\n",
    "def create_data(m, N=50):\n",
    "    x = torch.randn(N,1)\n",
    "    y = m * x + torch.randn(N,1)/2\n",
    "    return x, y"
   ]
  },
  {
   "cell_type": "code",
   "execution_count": null,
   "metadata": {},
   "outputs": [],
   "source": [
    "# 3) Parametric experiment\n",
    "# Vary the slope from -2 to 2 in 21 steps\n",
    "# Repeat the entire experiment 50 times\n",
    "\n",
    "def create_slopes_in_n_steps(init_m, final_m, steps):\n",
    "    return np.linspace(init_m, final_m, steps)\n",
    "\n",
    "slopes = create_slopes_in_n_steps(-2, 2, 21)\n",
    "# print(\"test slopes\", len(slopes), slopes)\n",
    "\n",
    "# RUN THE EXPERIMENT\n",
    "number_experiments = 50\n",
    "# initialize output matrix (taken from result)\n",
    "results = np.zeros((len(slopes), number_experiments,2))\n",
    "\n",
    "for slope_idx in range(len(slopes)):\n",
    "    print(f\"slope = {slopes[slope_idx]}\")\n",
    "    for experiment in range(number_experiments):\n",
    "        # print(f\"experiment = {experiment + 1}\")\n",
    "        x, y = create_data(slopes[slope_idx])\n",
    "        y_hat, losses = train_model(x, y)\n",
    "        y_hat = y_hat.detach()\n",
    "\n",
    "        # store the final loss and performance (taken from result)\n",
    "        results[slope_idx, experiment, 0] = losses[-1]\n",
    "        results[slope_idx, experiment, 1] = np.corrcoef(y.T, y_hat.T)[0, 1]\n",
    "\n",
    "# correlation can be 0 if the model didn't do well. Set nan's->0\n",
    "# (taken from result)\n",
    "results[np.isnan(results)] = 0\n"
   ]
  },
  {
   "cell_type": "code",
   "execution_count": null,
   "metadata": {},
   "outputs": [],
   "source": [
    "# 4) Plot the loss and accuracy (correlation of y_hat, y) as a function of the\n",
    "# slope\n",
    "\n",
    "fig, ax = plt.subplots(1, 2, figsize=(12,4))\n",
    "\n",
    "ax[0].plot(slopes, np.mean(results[:, :, 0],axis=1), 'ko-', markerfacecolor='w', markersize=10)\n",
    "ax[0].set_xlabel('Slope')\n",
    "ax[0].set_title('Loss')\n",
    "\n",
    "ax[1].plot(slopes, np.mean(results[:, :, 1],axis=1), 'ms-', markerfacecolor='w', markersize=10)\n",
    "ax[1].set_xlabel('Slope')\n",
    "ax[1].set_ylabel('Real-predicted correlation')\n",
    "ax[1].set_title('Model performance')\n",
    "\n",
    "plt.show()"
   ]
  },
  {
   "cell_type": "code",
   "execution_count": null,
   "metadata": {},
   "outputs": [],
   "source": [
    "# extra code to visualize data with different slopes\n",
    "\n",
    "m = 2\n",
    "\n",
    "x,y = create_data(m)\n",
    "\n",
    "plt.title('Slope = ' + str(m))\n",
    "plt.plot(x,y,'o')\n",
    "plt.ylim([-4,4])\n",
    "plt.xlabel('x')\n",
    "plt.ylabel('y')\n",
    "plt.show()"
   ]
  }
 ],
 "metadata": {
  "kernelspec": {
   "display_name": "Python 3",
   "language": "python",
   "name": "python3"
  },
  "language_info": {
   "codemirror_mode": {
    "name": "ipython",
    "version": 3
   },
   "file_extension": ".py",
   "mimetype": "text/x-python",
   "name": "python",
   "nbconvert_exporter": "python",
   "pygments_lexer": "ipython3",
   "version": "3.10.12"
  }
 },
 "nbformat": 4,
 "nbformat_minor": 2
}
