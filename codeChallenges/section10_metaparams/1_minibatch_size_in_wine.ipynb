{
 "cells": [
  {
   "cell_type": "code",
   "execution_count": null,
   "metadata": {
    "id": "YeuAheYyhdZw"
   },
   "outputs": [],
   "source": [
    "import numpy as np\n",
    "import matplotlib.pyplot as plt\n",
    "import pandas as pd\n",
    "from sklearn.model_selection import train_test_split\n",
    "import scipy.stats as stats\n",
    "import torch\n",
    "import torch.nn as nn\n",
    "import torch.nn.functional as F\n",
    "from torch.utils.data import DataLoader, TensorDataset"
   ]
  },
  {
   "cell_type": "code",
   "execution_count": null,
   "metadata": {
    "id": "MU7rvmWuhjud"
   },
   "outputs": [],
   "source": [
    "url = \"https://archive.ics.uci.edu/ml/machine-learning-databases/wine-quality/winequality-red.csv\"\n",
    "\n",
    "wine = pd.read_csv(url, sep=';')\n",
    "\n",
    "# remove some rows with outliers\n",
    "data = wine[wine['total sulfur dioxide'] < 200]\n",
    "\n",
    "wine"
   ]
  },
  {
   "cell_type": "code",
   "execution_count": null,
   "metadata": {
    "id": "PRQFDaDfXs-b"
   },
   "outputs": [],
   "source": [
    "# plot the data\n",
    "wine.plot(marker='o', linestyle='none', figsize=(12, 6))\n",
    "plt.xlabel('Sample number')\n",
    "plt.ylabel('Value')\n",
    "plt.show()"
   ]
  },
  {
   "cell_type": "code",
   "execution_count": null,
   "metadata": {
    "id": "vJPkH6Bfh01_"
   },
   "outputs": [],
   "source": [
    "input_columns = wine.keys().drop('quality')\n",
    "wine[input_columns] = wine[input_columns].apply(stats.zscore)\n",
    "\n",
    "# binarize quality to simplify the model\n",
    "wine['bool_quality'] = 0\n",
    "wine['bool_quality'][wine['quality'] > 5] = 1\n",
    "\n",
    "# convert from pandas dataframe to tensor\n",
    "data_tensor = torch.tensor(wine[input_columns].values).float()\n",
    "labels = torch.tensor(wine['bool_quality'].values).float()\n",
    "labels = labels[:, None]  # transform to matrix\n",
    "\n",
    "data_tensor, labels"
   ]
  },
  {
   "cell_type": "markdown",
   "metadata": {
    "id": "S-GvjKA8AesK"
   },
   "source": [
    "# Break the data into batches"
   ]
  },
  {
   "cell_type": "code",
   "execution_count": null,
   "metadata": {
    "id": "OVrlOHYIAg0r"
   },
   "outputs": [],
   "source": [
    "# use scikitlearn to split the data\n",
    "train_data, test_data, train_labels, test_labels = train_test_split(\n",
    "    data_tensor, labels, test_size=.2)\n",
    "\n",
    "# then convert them into PyTorch Datasets (note: already converted to tensors)\n",
    "train_data = TensorDataset(train_data, train_labels)\n",
    "test_data = TensorDataset(test_data, test_labels)\n",
    "\n",
    "\n",
    "# finally, translate into dataloader objects\n",
    "def load_train_data_batches_with_multipliers(batch_multipliers):\n",
    "    batch_size_base = 2\n",
    "    for multiplier in batch_multipliers:\n",
    "        yield DataLoader(train_data,\n",
    "                         batch_size=batch_size_base**multiplier,\n",
    "                         shuffle=True,\n",
    "                         drop_last=True)\n",
    "\n",
    "\n",
    "test_loader = DataLoader(test_data, batch_size=test_data.tensors[0].shape[0]\n",
    "                         )  # how big should these batches be??"
   ]
  },
  {
   "cell_type": "code",
   "execution_count": null,
   "metadata": {
    "id": "rmKRNFYUceuH"
   },
   "outputs": [],
   "source": [
    "# check sizes of data batches\n",
    "for batch in load_train_data_batches_with_multipliers([1, 3, 5, 7, 9]):\n",
    "    print(\"batch_size =\", batch.batch_size)\n",
    "    for X, y in batch:\n",
    "        print(X.shape, y.shape)\n"
   ]
  },
  {
   "cell_type": "markdown",
   "metadata": {
    "id": "3hvO8U4hR6A4"
   },
   "source": [
    "# Construct the model and training plans"
   ]
  },
  {
   "cell_type": "code",
   "execution_count": null,
   "metadata": {
    "id": "v0JMIGb1iV_9"
   },
   "outputs": [],
   "source": [
    "class ANNMultilayer(nn.Module):\n",
    "\n",
    "    def __init__(self):\n",
    "        super().__init__()\n",
    "        # model architecture\n",
    "        self._input = nn.Linear(11, 16)\n",
    "        self._hidden1 = nn.Linear(16, 32)\n",
    "        self._hidden2 = nn.Linear(32, 32)\n",
    "        self._output = nn.Linear(32, 1)\n",
    "\n",
    "    def forward(self, input):\n",
    "        x = F.relu(self._input(input))\n",
    "        x = F.relu(self._hidden1(x))\n",
    "        x = F.relu(self._hidden2(x))\n",
    "        return self._output(x)"
   ]
  },
  {
   "cell_type": "code",
   "execution_count": null,
   "metadata": {},
   "outputs": [],
   "source": [
    "class ANNPipeline():\n",
    "\n",
    "    def __init__(self, learning_rate):\n",
    "        self._ann = ANNMultilayer()\n",
    "        # loss function\n",
    "        self._lossfun = nn.BCEWithLogitsLoss()\n",
    "        # optimizer\n",
    "        self._optimizer = torch.optim.SGD(self._ann.parameters(),\n",
    "                                          lr=learning_rate)\n",
    "\n",
    "    def train(self, train_loader, numepochs=1000):\n",
    "        # initialize accuracies as empties\n",
    "        train_accuracy = []\n",
    "        test_accuracy = []\n",
    "        losses = torch.zeros(numepochs)\n",
    "\n",
    "        for epochi in range(numepochs):\n",
    "            self._ann.train()\n",
    "            # loop over training data batches\n",
    "            batchAcc = []\n",
    "            batchLoss = []\n",
    "            for X, y in train_loader:\n",
    "                # forward pass and loss\n",
    "                yHat = self._ann(X)\n",
    "                loss = self._lossfun(yHat, y)\n",
    "\n",
    "                # backprop\n",
    "                self._optimizer.zero_grad()\n",
    "                loss.backward()\n",
    "                self._optimizer.step()\n",
    "\n",
    "                # compute training accuracy just for this batch\n",
    "                batchAcc.append(100 * torch.mean(\n",
    "                    ((yHat > 0) == y).float()).item())\n",
    "                batchLoss.append(loss.item())\n",
    "            # end of batch loop...\n",
    "\n",
    "            # now that we've trained through the batches, get their average training accuracy\n",
    "            train_accuracy.append(np.mean(batchAcc))\n",
    "            losses[epochi] = np.mean(batchLoss)\n",
    "\n",
    "            # test accuracy\n",
    "            self._ann.eval()\n",
    "            X, y = next(iter(test_loader))  # extract X,y from test dataloader\n",
    "            with torch.no_grad():\n",
    "                yHat = self._ann(X)\n",
    "            train_accuracy.append(100 * torch.mean(\n",
    "                ((yHat > 0) == y).float()).item())\n",
    "\n",
    "        # function output\n",
    "        return train_accuracy, test_accuracy, losses"
   ]
  },
  {
   "cell_type": "markdown",
   "metadata": {
    "id": "VuoE2V3PR--u"
   },
   "source": [
    "# Test it out"
   ]
  },
  {
   "cell_type": "code",
   "execution_count": null,
   "metadata": {
    "id": "vXku7xIdcu7Y"
   },
   "outputs": [],
   "source": [
    "result_data = {}\n",
    "for train_loader in load_train_data_batches_with_multipliers(\n",
    "        batch_multipliers=[1, 2, 3, 4, 5, 6]):\n",
    "    net = ANNPipeline(learning_rate=.01)\n",
    "    train_accuracy, test_accuracy, losses = net.train(train_loader)\n",
    "    result_data[train_loader.batch_size] = {\n",
    "        \"train_accuracy\": train_accuracy,\n",
    "        \"test_accuracy\": test_accuracy,\n",
    "        \"losses\": losses\n",
    "    }"
   ]
  },
  {
   "cell_type": "code",
   "execution_count": null,
   "metadata": {},
   "outputs": [],
   "source": [
    "result_data"
   ]
  },
  {
   "cell_type": "code",
   "execution_count": null,
   "metadata": {
    "id": "JYouZAY4i3jM"
   },
   "outputs": [],
   "source": [
    "# plot the results\n",
    "fig, ax = plt.subplots(1, 3, figsize=(15, 5))\n",
    "\n",
    "for batch_size, results in result_data.items():\n",
    "    ax[0].plot(results[\"losses\"])\n",
    "ax[0].set_ylabel('Loss')\n",
    "ax[0].set_xlabel('Epochs')\n",
    "ax[0].set_title('Losses with minibatches')\n",
    "ax[0].legend([batch_size for batch_size in result_data])\n",
    "\n",
    "for batch_size, results in result_data.items():\n",
    "    ax[1].plot(results[\"train_accuracy\"])\n",
    "ax[1].set_title('Accuracy with minibatches in training data')\n",
    "ax[1].set_xlabel('Epochs')\n",
    "ax[1].set_ylabel('Accuracy (%)')\n",
    "ax[1].legend([batch_size for batch_size in result_data])\n",
    "ax[1].set_ylim([27, 103])\n",
    "\n",
    "for batch_size, results in result_data.items():\n",
    "    print(batch_size, results)\n",
    "    ax[2].plot(results[\"test_accuracy\"])\n",
    "ax[2].set_title('Accuracy with minibatches in test data')\n",
    "ax[2].set_xlabel('Epochs')\n",
    "ax[2].set_ylabel('Accuracy (%)')\n",
    "ax[2].legend([batch_size for batch_size in result_data])\n",
    "ax[2].set_ylim([27, 103])\n",
    "\n",
    "plt.show()"
   ]
  }
 ],
 "metadata": {
  "colab": {
   "authorship_tag": "ABX9TyNdHdIxnBBxr8sHl3mGRVPh",
   "collapsed_sections": [],
   "name": "DUDL_regular_minibatch.ipynb",
   "provenance": [
    {
     "file_id": "1bv1_y32e3KEExFKKlPfC3rpw1JxmBr8H",
     "timestamp": 1617124341706
    },
    {
     "file_id": "1GMq8u7KyHB2AE7Teyls9gK1T01OduQSn",
     "timestamp": 1616697516760
    },
    {
     "file_id": "1Ui3kyHim-e0XLgDs2mkBxVlYg7TKYtcg",
     "timestamp": 1616615469755
    },
    {
     "file_id": "1YpHocGI4rApOxIBb1ZghCU5L-hFnv4CK",
     "timestamp": 1616608248670
    }
   ]
  },
  "kernelspec": {
   "display_name": "Python 3",
   "name": "python3"
  },
  "language_info": {
   "codemirror_mode": {
    "name": "ipython",
    "version": 3
   },
   "file_extension": ".py",
   "mimetype": "text/x-python",
   "name": "python",
   "nbconvert_exporter": "python",
   "pygments_lexer": "ipython3",
   "version": "3.10.12"
  }
 },
 "nbformat": 4,
 "nbformat_minor": 0
}
