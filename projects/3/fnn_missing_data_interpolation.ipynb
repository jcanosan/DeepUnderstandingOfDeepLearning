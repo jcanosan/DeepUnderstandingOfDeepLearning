{
 "cells": [
  {
   "cell_type": "code",
   "execution_count": null,
   "metadata": {},
   "outputs": [],
   "source": [
    "import matplotlib.pyplot as plt\n",
    "import numpy as np\n",
    "import pandas as pd\n",
    "from sklearn.model_selection import train_test_split\n",
    "import torch\n",
    "import torch.nn as nn\n",
    "from torch.utils.data import DataLoader"
   ]
  },
  {
   "cell_type": "markdown",
   "metadata": {},
   "source": [
    "### Get and process the dataset"
   ]
  },
  {
   "cell_type": "code",
   "execution_count": null,
   "metadata": {},
   "outputs": [],
   "source": [
    "url = \"https://archive.ics.uci.edu/ml/machine-learning-databases/wine-quality/winequality-red.csv\"\n",
    "wine = pd.read_csv(url, sep=';')\n",
    "\n",
    "# remove some rows with outliers\n",
    "data = wine[wine['total sulfur dioxide'] < 200]\n",
    "data"
   ]
  },
  {
   "cell_type": "code",
   "execution_count": null,
   "metadata": {},
   "outputs": [],
   "source": [
    "for column in data.keys():\n",
    "    d = pd.to_numeric(\n",
    "        data[column])  # force to numeric (addresses some data-format issues)\n",
    "    data[column] = (d - d.mean()) / d.std(ddof=1)"
   ]
  },
  {
   "cell_type": "code",
   "execution_count": null,
   "metadata": {},
   "outputs": [],
   "source": [
    "data"
   ]
  },
  {
   "cell_type": "code",
   "execution_count": null,
   "metadata": {},
   "outputs": [],
   "source": [
    "input_columns = wine.keys().drop(\"residual sugar\")\n",
    "nan_indexes = np.random.choice(range(len(data)), size=10, replace=False)\n",
    "\n",
    "train_data = torch.tensor(data[input_columns].values).float()\n",
    "train_labels = torch.tensor(data[\"residual sugar\"].values).float()\n",
    "train_labels[\n",
    "    nan_indexes] = np.nan  # not really necessary, as we are going to disregard these indexes\n",
    "non_nan_indexes = (~train_labels.isnan()).nonzero(as_tuple=True)[0]\n",
    "print(non_nan_indexes)\n",
    "train_data = train_data[non_nan_indexes, :]\n",
    "train_labels = train_labels[non_nan_indexes, None]  # transform to matrix\n",
    "\n",
    "test_data = torch.tensor(data[input_columns].values).float()\n",
    "test_data = test_data[nan_indexes, :]\n",
    "test_labels = torch.tensor(data[\"residual sugar\"].values).float()\n",
    "test_labels = test_labels[nan_indexes, None]  # transform to matrix"
   ]
  },
  {
   "cell_type": "code",
   "execution_count": null,
   "metadata": {},
   "outputs": [],
   "source": [
    "print(train_data.shape)\n",
    "print(train_data)\n",
    "print(train_labels.shape)\n",
    "print(train_labels)\n",
    "print(train_labels[nan_indexes])"
   ]
  },
  {
   "cell_type": "code",
   "execution_count": null,
   "metadata": {},
   "outputs": [],
   "source": [
    "print(test_data.shape)\n",
    "print(test_data)\n",
    "print(test_labels.shape)\n",
    "print(test_labels)"
   ]
  },
  {
   "cell_type": "markdown",
   "metadata": {},
   "source": [
    "### Convert to DataLoader"
   ]
  },
  {
   "cell_type": "code",
   "execution_count": null,
   "metadata": {},
   "outputs": [],
   "source": [
    "# convert into PyTorch Datasets\n",
    "train_data = torch.utils.data.TensorDataset(train_data, train_labels)\n",
    "test_data = torch.utils.data.TensorDataset(test_data, test_labels)\n",
    "\n",
    "# translate into dataloader objects\n",
    "batch_size = 16\n",
    "train_loader = DataLoader(train_data,\n",
    "                          batch_size=batch_size,\n",
    "                          shuffle=True,\n",
    "                          drop_last=True)\n",
    "test_loader = DataLoader(test_data, batch_size=test_data.tensors[0].shape[0])"
   ]
  },
  {
   "cell_type": "markdown",
   "metadata": {},
   "source": [
    "### Make the net"
   ]
  },
  {
   "cell_type": "code",
   "execution_count": null,
   "metadata": {},
   "outputs": [],
   "source": [
    "class Net(nn.Module):\n",
    "\n",
    "    def __init__(self):\n",
    "        super().__init__()\n",
    "        self.input = nn.Linear(11, 16)\n",
    "        self.fc1 = nn.Linear(16, 32)\n",
    "        self.fc2 = nn.Linear(32, 16)\n",
    "        self.output = nn.Linear(16, 1)\n",
    "\n",
    "    def forward(self, x):\n",
    "        x = nn.functional.relu(self.input(x))\n",
    "        x = nn.functional.relu(self.fc1(x))\n",
    "        x = nn.functional.relu(self.fc2(x))\n",
    "        return self.output(x)"
   ]
  },
  {
   "cell_type": "code",
   "execution_count": null,
   "metadata": {},
   "outputs": [],
   "source": [
    "class NNPipeline():\n",
    "\n",
    "    def __init__(self, train_loader, test_loader):\n",
    "        self._net = Net()\n",
    "        self._lossfun = nn.MSELoss()\n",
    "        self._optimizer = torch.optim.Adam(self._net.parameters(), lr=.01)\n",
    "        self._train_loader = train_loader\n",
    "        self._test_loader = test_loader\n",
    "\n",
    "    @property\n",
    "    def net(self):\n",
    "        return self._net\n",
    "\n",
    "    @property\n",
    "    def losses(self):\n",
    "        return self._losses\n",
    "\n",
    "    def train(self, num_epochs=100):\n",
    "        self._losses = torch.zeros(num_epochs)\n",
    "\n",
    "        for epochi in range(num_epochs):\n",
    "            batch_loss = []\n",
    "            for X, y in self._train_loader:\n",
    "                # forward pass and loss\n",
    "                y_hat = self._net(X)\n",
    "                loss = self._lossfun(y_hat, y)\n",
    "\n",
    "                # backprop\n",
    "                self._optimizer.zero_grad()\n",
    "                loss.backward()\n",
    "                self._optimizer.step()\n",
    "\n",
    "                # loss from this batch\n",
    "                batch_loss.append(loss.item())\n",
    "\n",
    "            # and get average losses across the batches\n",
    "            self._losses[epochi] = np.mean(batch_loss)\n",
    "\n",
    "    def predict(self, loader):\n",
    "        with torch.no_grad():\n",
    "            y_hat = self._net(loader.dataset.tensors[0])\n",
    "        return y_hat.detach()"
   ]
  },
  {
   "cell_type": "markdown",
   "metadata": {},
   "source": [
    "### Run the net"
   ]
  },
  {
   "cell_type": "code",
   "execution_count": null,
   "metadata": {},
   "outputs": [],
   "source": [
    "neural_network = NNPipeline(train_loader, test_loader)\n",
    "neural_network.train(num_epochs=100)"
   ]
  },
  {
   "cell_type": "code",
   "execution_count": null,
   "metadata": {},
   "outputs": [],
   "source": [
    "train_results = neural_network.predict(train_loader)\n",
    "test_results = neural_network.predict(test_loader)"
   ]
  },
  {
   "cell_type": "code",
   "execution_count": null,
   "metadata": {},
   "outputs": [],
   "source": [
    "neural_network.losses"
   ]
  },
  {
   "cell_type": "code",
   "execution_count": null,
   "metadata": {},
   "outputs": [],
   "source": [
    "print(train_results.T)\n",
    "print(test_results.T)"
   ]
  },
  {
   "cell_type": "markdown",
   "metadata": {},
   "source": [
    "### Plot the results"
   ]
  },
  {
   "cell_type": "code",
   "execution_count": null,
   "metadata": {},
   "outputs": [],
   "source": [
    "fig, ax = plt.subplots(1, 2, figsize=(15, 5))\n",
    "\n",
    "ax[0].plot(neural_network.losses)\n",
    "ax[0].set_ylabel('Loss')\n",
    "ax[0].set_xlabel('Epochs')\n",
    "ax[0].set_title('Losses')\n",
    "\n",
    "ax[1].plot(train_results, train_labels, 'ro')\n",
    "ax[1].plot(test_results, test_labels, 'b^')\n",
    "ax[1].set_title('Sugar predictions vs observations')\n",
    "ax[1].set_xlabel('Predictions')\n",
    "ax[1].set_ylabel('Observations')\n",
    "\n",
    "training_correlations = np.corrcoef(train_results.T, train_labels.T)[1, 0]\n",
    "test_correlations = np.corrcoef(test_results.T, test_labels.T)[1, 0]\n",
    "ax[1].legend([\n",
    "    f'Train r={training_correlations:.3f}', f'Test r={test_correlations:.3f}'\n",
    "])\n",
    "\n",
    "plt.show()"
   ]
  }
 ],
 "metadata": {
  "kernelspec": {
   "display_name": ".venv",
   "language": "python",
   "name": "python3"
  },
  "language_info": {
   "codemirror_mode": {
    "name": "ipython",
    "version": 3
   },
   "file_extension": ".py",
   "mimetype": "text/x-python",
   "name": "python",
   "nbconvert_exporter": "python",
   "pygments_lexer": "ipython3",
   "version": "3.12.4"
  }
 },
 "nbformat": 4,
 "nbformat_minor": 2
}
