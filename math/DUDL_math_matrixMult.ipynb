{
 "cells": [
  {
   "attachments": {},
   "cell_type": "markdown",
   "metadata": {
    "id": "bhWV8oes-wKR"
   },
   "source": [
    "# COURSE: A deep understanding of deep learning\n",
    "## SECTION: Math prerequisites\n",
    "### LECTURE: Matrix multiplication\n",
    "#### TEACHER: Mike X Cohen, sincxpress.com\n",
    "##### COURSE URL: udemy.com/course/deeplearning_x/?couponCode=202305"
   ]
  },
  {
   "cell_type": "code",
   "execution_count": 1,
   "metadata": {
    "id": "vRQNyNtlDoOb"
   },
   "outputs": [],
   "source": [
    "# import libraries\n",
    "import numpy as np\n",
    "import torch"
   ]
  },
  {
   "attachments": {},
   "cell_type": "markdown",
   "metadata": {
    "id": "K0BSQG0fDpt_"
   },
   "source": [
    "# Using numpy"
   ]
  },
  {
   "cell_type": "code",
   "execution_count": 4,
   "metadata": {
    "id": "T4_veEYqDpx9"
   },
   "outputs": [
    {
     "name": "stdout",
     "output_type": "stream",
     "text": [
      "[[ 0.75 -0.95 -3.84  2.01  2.25]\n",
      " [-3.04 -3.41 -6.94  4.83 -3.53]\n",
      " [ 0.45 -0.2   1.17  1.81 -2.64]]\n",
      " \n",
      "[[-0.32 -0.91 -1.01  1.03]\n",
      " [ 2.7  -2.52  1.51 -3.13]\n",
      " [ 3.97 -6.21  2.37 -4.2 ]\n",
      " [-0.17  0.2   0.05  0.11]\n",
      " [-0.17  1.63 -0.33  0.03]\n",
      " [ 1.54 -2.66  2.25 -2.27]\n",
      " [ 1.21 -0.63  0.7  -1.52]]\n"
     ]
    }
   ],
   "source": [
    "# create some random matrices\n",
    "A = np.random.randn(3,4)\n",
    "B = np.random.randn(4,5)\n",
    "C = np.random.randn(3,7)\n",
    "\n",
    "# try some multiplications...\n",
    "print(np.round( A@B   ,2)), print(' ')\n",
    "# print(np.round( A@C   ,2)), print(' ')\n",
    "# print(np.round( B@C   ,2)), print(' ')\n",
    "print(np.round( C.T@A ,2))"
   ]
  },
  {
   "attachments": {},
   "cell_type": "markdown",
   "metadata": {
    "id": "89qsNy19Dp1U"
   },
   "source": [
    "# Using pytorch"
   ]
  },
  {
   "cell_type": "code",
   "execution_count": 8,
   "metadata": {
    "id": "4Yrdf4WOEjxz"
   },
   "outputs": [
    {
     "name": "stdout",
     "output_type": "stream",
     "text": [
      "tensor([[ 0.7500,  2.0100, -1.7600,  2.8200,  1.0600],\n",
      "        [ 1.5000, -2.3500,  2.4500, -2.1700, -4.1600],\n",
      "        [ 1.0600, -1.0900,  3.1200, -5.9100, -2.3500]])\n",
      " \n",
      "tensor([[-0.7000,  0.1200, -1.0000,  3.4300,  0.6600,  0.7700,  2.4000],\n",
      "        [-0.9400, -2.7700,  0.8200,  0.2300, -0.9600, -2.1700,  0.4600],\n",
      "        [-2.5500, -2.1400,  1.4000,  3.0600, -1.4200, -4.5700, -0.8000]],\n",
      "       dtype=torch.float64)\n",
      " \n",
      "tensor([[-0.7000,  0.1200, -1.0000,  3.4300,  0.6600,  0.7700,  2.4000],\n",
      "        [-0.9400, -2.7700,  0.8200,  0.2300, -0.9600, -2.1700,  0.4600],\n",
      "        [-2.5500, -2.1400,  1.4000,  3.0600, -1.4200, -4.5700, -0.8000]])\n"
     ]
    }
   ],
   "source": [
    "# create some random matrices\n",
    "A  = torch.randn(3,4)\n",
    "B  = torch.randn(4,5)\n",
    "C1 = np.random.randn(4,7)\n",
    "C2 = torch.tensor( C1,dtype=torch.float )\n",
    "\n",
    "# try some multiplications...\n",
    "print(np.round( A@B   ,2)), print(' ')\n",
    "# print(np.round( A@B.T ,2)), print(' ')\n",
    "print(np.round( A@C1  ,2)), print(' ')\n",
    "print(np.round( A@C2  ,2))"
   ]
  }
 ],
 "metadata": {
  "colab": {
   "authorship_tag": "ABX9TyN3xNttY0efRLiZkxgkBGe2",
   "collapsed_sections": [],
   "name": "DUDL_math_matrixMult.ipynb",
   "provenance": []
  },
  "kernelspec": {
   "display_name": "Python 3",
   "name": "python3"
  },
  "language_info": {
   "codemirror_mode": {
    "name": "ipython",
    "version": 3
   },
   "file_extension": ".py",
   "mimetype": "text/x-python",
   "name": "python",
   "nbconvert_exporter": "python",
   "pygments_lexer": "ipython3",
   "version": "3.10.6"
  }
 },
 "nbformat": 4,
 "nbformat_minor": 0
}
